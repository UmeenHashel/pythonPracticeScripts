{
 "cells": [
  {
   "cell_type": "code",
   "id": "initial_id",
   "metadata": {
    "collapsed": true,
    "ExecuteTime": {
     "end_time": "2025-10-08T23:24:58.851625Z",
     "start_time": "2025-10-08T23:24:58.806078Z"
    }
   },
   "source": "import numpy as np",
   "outputs": [],
   "execution_count": 36
  },
  {
   "metadata": {},
   "cell_type": "markdown",
   "source": [
    "Numpy - Numerical Python\n",
    "\n",
    "Advantages of Numpy Arrays:\n",
    "\n",
    "1. Allows several Mathematical Operations\n",
    "2. Faster operations\n"
   ],
   "id": "146de842f68946ef"
  },
  {
   "metadata": {
    "ExecuteTime": {
     "end_time": "2025-10-08T23:24:58.858647Z",
     "start_time": "2025-10-08T23:24:58.856186Z"
    }
   },
   "cell_type": "code",
   "source": "from time import process_time",
   "id": "158cb81aaef64b6b",
   "outputs": [],
   "execution_count": 37
  },
  {
   "metadata": {},
   "cell_type": "markdown",
   "source": "Time taken by a list",
   "id": "1962ed00dae3f8ee"
  },
  {
   "metadata": {
    "ExecuteTime": {
     "end_time": "2025-10-08T23:24:58.869161Z",
     "start_time": "2025-10-08T23:24:58.864851Z"
    }
   },
   "cell_type": "code",
   "source": [
    "python_list = [i for i in range(10000)]\n",
    "\n",
    "start_time = process_time()\n",
    "\n",
    "python_list = [i+5 for i in python_list]\n",
    "\n",
    "end_time = process_time()\n",
    "\n",
    "print(end_time - start_time)"
   ],
   "id": "3f077a177af60c90",
   "outputs": [
    {
     "name": "stdout",
     "output_type": "stream",
     "text": [
      "0.0\n"
     ]
    }
   ],
   "execution_count": 38
  },
  {
   "metadata": {
    "ExecuteTime": {
     "end_time": "2025-10-08T23:24:58.879122Z",
     "start_time": "2025-10-08T23:24:58.875356Z"
    }
   },
   "cell_type": "code",
   "source": [
    "np_array = np.array([i for i in range(10000)])\n",
    "\n",
    "start_time = process_time()\n",
    "\n",
    "np_array += 5\n",
    "\n",
    "end_time = process_time()\n",
    "\n",
    "print(end_time - start_time)"
   ],
   "id": "d3eea58d20263eeb",
   "outputs": [
    {
     "name": "stdout",
     "output_type": "stream",
     "text": [
      "0.0\n"
     ]
    }
   ],
   "execution_count": 39
  },
  {
   "metadata": {},
   "cell_type": "markdown",
   "source": "Numpy Array",
   "id": "cb06afc4f6f5d64d"
  },
  {
   "metadata": {
    "ExecuteTime": {
     "end_time": "2025-10-08T23:27:27.392659Z",
     "start_time": "2025-10-08T23:27:27.387839Z"
    }
   },
   "cell_type": "code",
   "source": [
    "np_array = np.array([1, 2, 3, 4, 5])\n",
    "print(np_array)\n",
    "type(np_array)"
   ],
   "id": "1d8267b237ed5de4",
   "outputs": [
    {
     "name": "stdout",
     "output_type": "stream",
     "text": [
      "[1 2 3 4 5]\n"
     ]
    },
    {
     "data": {
      "text/plain": [
       "numpy.ndarray"
      ]
     },
     "execution_count": 40,
     "metadata": {},
     "output_type": "execute_result"
    }
   ],
   "execution_count": 40
  },
  {
   "metadata": {
    "ExecuteTime": {
     "end_time": "2025-10-08T23:28:00.596472Z",
     "start_time": "2025-10-08T23:28:00.593102Z"
    }
   },
   "cell_type": "code",
   "source": [
    "# creating a 1 dim array\n",
    "a = np.array([1, 2, 3, 4, 5])\n",
    "print(a)"
   ],
   "id": "7c681c8ed5726f05",
   "outputs": [
    {
     "name": "stdout",
     "output_type": "stream",
     "text": [
      "[1 2 3 4 5]\n"
     ]
    }
   ],
   "execution_count": 41
  },
  {
   "metadata": {
    "ExecuteTime": {
     "end_time": "2025-10-08T23:28:27.030129Z",
     "start_time": "2025-10-08T23:28:27.026453Z"
    }
   },
   "cell_type": "code",
   "source": "a.shape",
   "id": "46a68899dc196408",
   "outputs": [
    {
     "data": {
      "text/plain": [
       "(5,)"
      ]
     },
     "execution_count": 42,
     "metadata": {},
     "output_type": "execute_result"
    }
   ],
   "execution_count": 42
  },
  {
   "metadata": {},
   "cell_type": "code",
   "outputs": [],
   "execution_count": null,
   "source": "",
   "id": "64f3394a8a0493b0"
  }
 ],
 "metadata": {
  "kernelspec": {
   "display_name": "Python 3",
   "language": "python",
   "name": "python3"
  },
  "language_info": {
   "codemirror_mode": {
    "name": "ipython",
    "version": 2
   },
   "file_extension": ".py",
   "mimetype": "text/x-python",
   "name": "python",
   "nbconvert_exporter": "python",
   "pygments_lexer": "ipython2",
   "version": "2.7.6"
  }
 },
 "nbformat": 4,
 "nbformat_minor": 5
}
