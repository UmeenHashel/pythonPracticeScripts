{
 "cells": [
  {
   "cell_type": "code",
   "id": "initial_id",
   "metadata": {
    "collapsed": true,
    "ExecuteTime": {
     "end_time": "2025-10-08T23:24:58.851625Z",
     "start_time": "2025-10-08T23:24:58.806078Z"
    }
   },
   "source": [
    "import numpy as np\n",
    "from numpy import dtype"
   ],
   "outputs": [],
   "execution_count": 36
  },
  {
   "metadata": {},
   "cell_type": "markdown",
   "source": [
    "Numpy - Numerical Python\n",
    "\n",
    "Advantages of Numpy Arrays:\n",
    "\n",
    "1. Allows several Mathematical Operations\n",
    "2. Faster operations\n"
   ],
   "id": "146de842f68946ef"
  },
  {
   "metadata": {
    "ExecuteTime": {
     "end_time": "2025-10-08T23:24:58.858647Z",
     "start_time": "2025-10-08T23:24:58.856186Z"
    }
   },
   "cell_type": "code",
   "source": "from time import process_time",
   "id": "158cb81aaef64b6b",
   "outputs": [],
   "execution_count": 37
  },
  {
   "metadata": {},
   "cell_type": "markdown",
   "source": "Time taken by a list",
   "id": "1962ed00dae3f8ee"
  },
  {
   "metadata": {
    "ExecuteTime": {
     "end_time": "2025-10-08T23:24:58.869161Z",
     "start_time": "2025-10-08T23:24:58.864851Z"
    }
   },
   "cell_type": "code",
   "source": [
    "python_list = [i for i in range(10000)]\n",
    "\n",
    "start_time = process_time()\n",
    "\n",
    "python_list = [i+5 for i in python_list]\n",
    "\n",
    "end_time = process_time()\n",
    "\n",
    "print(end_time - start_time)"
   ],
   "id": "3f077a177af60c90",
   "outputs": [
    {
     "name": "stdout",
     "output_type": "stream",
     "text": [
      "0.0\n"
     ]
    }
   ],
   "execution_count": 38
  },
  {
   "metadata": {
    "ExecuteTime": {
     "end_time": "2025-10-08T23:24:58.879122Z",
     "start_time": "2025-10-08T23:24:58.875356Z"
    }
   },
   "cell_type": "code",
   "source": [
    "np_array = np.array([i for i in range(10000)])\n",
    "\n",
    "start_time = process_time()\n",
    "\n",
    "np_array += 5\n",
    "\n",
    "end_time = process_time()\n",
    "\n",
    "print(end_time - start_time)"
   ],
   "id": "d3eea58d20263eeb",
   "outputs": [
    {
     "name": "stdout",
     "output_type": "stream",
     "text": [
      "0.0\n"
     ]
    }
   ],
   "execution_count": 39
  },
  {
   "metadata": {},
   "cell_type": "markdown",
   "source": "Numpy Array",
   "id": "cb06afc4f6f5d64d"
  },
  {
   "metadata": {
    "ExecuteTime": {
     "end_time": "2025-10-08T23:27:27.392659Z",
     "start_time": "2025-10-08T23:27:27.387839Z"
    }
   },
   "cell_type": "code",
   "source": [
    "np_array = np.array([1, 2, 3, 4, 5])\n",
    "print(np_array)\n",
    "type(np_array)"
   ],
   "id": "1d8267b237ed5de4",
   "outputs": [
    {
     "name": "stdout",
     "output_type": "stream",
     "text": [
      "[1 2 3 4 5]\n"
     ]
    },
    {
     "data": {
      "text/plain": [
       "numpy.ndarray"
      ]
     },
     "execution_count": 40,
     "metadata": {},
     "output_type": "execute_result"
    }
   ],
   "execution_count": 40
  },
  {
   "metadata": {
    "ExecuteTime": {
     "end_time": "2025-10-08T23:28:00.596472Z",
     "start_time": "2025-10-08T23:28:00.593102Z"
    }
   },
   "cell_type": "code",
   "source": [
    "# creating a 1 dim array\n",
    "a = np.array([1, 2, 3, 4, 5])\n",
    "print(a)"
   ],
   "id": "7c681c8ed5726f05",
   "outputs": [
    {
     "name": "stdout",
     "output_type": "stream",
     "text": [
      "[1 2 3 4 5]\n"
     ]
    }
   ],
   "execution_count": 41
  },
  {
   "metadata": {
    "ExecuteTime": {
     "end_time": "2025-10-08T23:28:27.030129Z",
     "start_time": "2025-10-08T23:28:27.026453Z"
    }
   },
   "cell_type": "code",
   "source": "a.shape",
   "id": "46a68899dc196408",
   "outputs": [
    {
     "data": {
      "text/plain": [
       "(5,)"
      ]
     },
     "execution_count": 42,
     "metadata": {},
     "output_type": "execute_result"
    }
   ],
   "execution_count": 42
  },
  {
   "metadata": {
    "ExecuteTime": {
     "end_time": "2025-10-08T23:32:14.626536Z",
     "start_time": "2025-10-08T23:32:14.623376Z"
    }
   },
   "cell_type": "code",
   "source": [
    "b = np.array([(1, 2, 3, 4, 5), (6, 7, 8, 9, 10)])\n",
    "print(b)\n"
   ],
   "id": "64f3394a8a0493b0",
   "outputs": [
    {
     "name": "stdout",
     "output_type": "stream",
     "text": [
      "[[ 1  2  3  4  5]\n",
      " [ 6  7  8  9 10]]\n"
     ]
    }
   ],
   "execution_count": 44
  },
  {
   "metadata": {
    "ExecuteTime": {
     "end_time": "2025-10-08T23:32:51.504797Z",
     "start_time": "2025-10-08T23:32:51.501614Z"
    }
   },
   "cell_type": "code",
   "source": "b.shape",
   "id": "c9988a0a160b849b",
   "outputs": [
    {
     "data": {
      "text/plain": [
       "(2, 5)"
      ]
     },
     "execution_count": 46,
     "metadata": {},
     "output_type": "execute_result"
    }
   ],
   "execution_count": 46
  },
  {
   "metadata": {
    "ExecuteTime": {
     "end_time": "2025-10-08T23:34:22.192909Z",
     "start_time": "2025-10-08T23:34:22.190138Z"
    }
   },
   "cell_type": "code",
   "source": [
    "c = np.array([(1, 2, 3, 4), (5, 6, 7 , 8)], dtype=float)\n",
    "print(c)"
   ],
   "id": "3a8985f53e447394",
   "outputs": [
    {
     "name": "stdout",
     "output_type": "stream",
     "text": [
      "[[1. 2. 3. 4.]\n",
      " [5. 6. 7. 8.]]\n"
     ]
    }
   ],
   "execution_count": 49
  },
  {
   "metadata": {},
   "cell_type": "markdown",
   "source": "Initial Placeholders in numpy arrays",
   "id": "d23bb775afb7c966"
  },
  {
   "metadata": {
    "ExecuteTime": {
     "end_time": "2025-10-08T23:37:06.089489Z",
     "start_time": "2025-10-08T23:37:06.086383Z"
    }
   },
   "cell_type": "code",
   "source": [
    "# create a numpy array with zeroes\n",
    "\n",
    "x = np.zeros((5, 4))\n",
    "print(x)"
   ],
   "id": "fd796df19ed1dde2",
   "outputs": [
    {
     "name": "stdout",
     "output_type": "stream",
     "text": [
      "[[0. 0. 0. 0.]\n",
      " [0. 0. 0. 0.]\n",
      " [0. 0. 0. 0.]\n",
      " [0. 0. 0. 0.]\n",
      " [0. 0. 0. 0.]]\n"
     ]
    }
   ],
   "execution_count": 54
  },
  {
   "metadata": {
    "ExecuteTime": {
     "end_time": "2025-10-08T23:41:52.486386Z",
     "start_time": "2025-10-08T23:41:52.483307Z"
    }
   },
   "cell_type": "code",
   "source": [
    "# create a numpy array with ones\n",
    "\n",
    "y = np.ones((5, 4))\n",
    "print(y)"
   ],
   "id": "97d3df22c9aaeb30",
   "outputs": [
    {
     "name": "stdout",
     "output_type": "stream",
     "text": [
      "[[1. 1. 1. 1.]\n",
      " [1. 1. 1. 1.]\n",
      " [1. 1. 1. 1.]\n",
      " [1. 1. 1. 1.]\n",
      " [1. 1. 1. 1.]]\n"
     ]
    }
   ],
   "execution_count": 55
  },
  {
   "metadata": {
    "ExecuteTime": {
     "end_time": "2025-10-08T23:43:27.561963Z",
     "start_time": "2025-10-08T23:43:27.559372Z"
    }
   },
   "cell_type": "code",
   "source": [
    "# array of a particular value\n",
    "\n",
    "z = np.full((5, 4), 5)\n",
    "print(z)"
   ],
   "id": "ca27e8ec956172c7",
   "outputs": [
    {
     "name": "stdout",
     "output_type": "stream",
     "text": [
      "[[5 5 5 5]\n",
      " [5 5 5 5]\n",
      " [5 5 5 5]\n",
      " [5 5 5 5]\n",
      " [5 5 5 5]]\n"
     ]
    }
   ],
   "execution_count": 57
  },
  {
   "metadata": {
    "ExecuteTime": {
     "end_time": "2025-10-08T23:44:34.276757Z",
     "start_time": "2025-10-08T23:44:34.272472Z"
    }
   },
   "cell_type": "code",
   "source": [
    "# create a identity matrix\n",
    "\n",
    "a = np.eye(10)\n",
    "print(a)"
   ],
   "id": "f10fc7bed4dcdd41",
   "outputs": [
    {
     "name": "stdout",
     "output_type": "stream",
     "text": [
      "[[1. 0. 0. 0. 0. 0. 0. 0. 0. 0.]\n",
      " [0. 1. 0. 0. 0. 0. 0. 0. 0. 0.]\n",
      " [0. 0. 1. 0. 0. 0. 0. 0. 0. 0.]\n",
      " [0. 0. 0. 1. 0. 0. 0. 0. 0. 0.]\n",
      " [0. 0. 0. 0. 1. 0. 0. 0. 0. 0.]\n",
      " [0. 0. 0. 0. 0. 1. 0. 0. 0. 0.]\n",
      " [0. 0. 0. 0. 0. 0. 1. 0. 0. 0.]\n",
      " [0. 0. 0. 0. 0. 0. 0. 1. 0. 0.]\n",
      " [0. 0. 0. 0. 0. 0. 0. 0. 1. 0.]\n",
      " [0. 0. 0. 0. 0. 0. 0. 0. 0. 1.]]\n"
     ]
    }
   ],
   "execution_count": 59
  },
  {
   "metadata": {
    "ExecuteTime": {
     "end_time": "2025-10-08T23:46:05.744556Z",
     "start_time": "2025-10-08T23:46:05.741411Z"
    }
   },
   "cell_type": "code",
   "source": [
    "# create a numpy array with random numbers\n",
    "\n",
    "b = np.random.random((5, 4))\n",
    "print(b)"
   ],
   "id": "428a695740882fe",
   "outputs": [
    {
     "name": "stdout",
     "output_type": "stream",
     "text": [
      "[[0.87223339 0.27799252 0.34354011 0.88694872]\n",
      " [0.86963798 0.23981527 0.80499137 0.4842957 ]\n",
      " [0.05482643 0.0528906  0.50663971 0.23049586]\n",
      " [0.43683743 0.14603625 0.23633242 0.65164639]\n",
      " [0.13113313 0.24450354 0.74719447 0.76223534]]\n"
     ]
    }
   ],
   "execution_count": 61
  },
  {
   "metadata": {
    "ExecuteTime": {
     "end_time": "2025-10-08T23:49:29.535543Z",
     "start_time": "2025-10-08T23:49:29.532141Z"
    }
   },
   "cell_type": "code",
   "source": [
    "# random integer array with a specific range\n",
    "\n",
    "c = np.random.randint(10,100, (5, 4))\n",
    "print(c)"
   ],
   "id": "9b15c9dc131784e",
   "outputs": [
    {
     "name": "stdout",
     "output_type": "stream",
     "text": [
      "[[10 31 81 39]\n",
      " [77 98 54 80]\n",
      " [10 65 77 74]\n",
      " [81 89 50 56]\n",
      " [60 87 72 75]]\n"
     ]
    }
   ],
   "execution_count": 63
  },
  {
   "metadata": {
    "ExecuteTime": {
     "end_time": "2025-10-08T23:56:33.086659Z",
     "start_time": "2025-10-08T23:56:33.083707Z"
    }
   },
   "cell_type": "code",
   "source": [
    "# array of evenly spaced values --> specifying the number of values replaced\n",
    "\n",
    "d = np.linspace(10, 30, 5)\n",
    "print(d)"
   ],
   "id": "818eda395615d833",
   "outputs": [
    {
     "name": "stdout",
     "output_type": "stream",
     "text": [
      "[10. 15. 20. 25. 30.]\n"
     ]
    }
   ],
   "execution_count": 66
  },
  {
   "metadata": {
    "ExecuteTime": {
     "end_time": "2025-10-08T23:57:39.872504Z",
     "start_time": "2025-10-08T23:57:39.869756Z"
    }
   },
   "cell_type": "code",
   "source": [
    "# array of evenly spaced values --> specifying the steps\n",
    "\n",
    "e = np.arange(10, 30, 5)\n",
    "print(e)"
   ],
   "id": "e3bb09f85ac5d161",
   "outputs": [
    {
     "name": "stdout",
     "output_type": "stream",
     "text": [
      "[10 15 20 25]\n"
     ]
    }
   ],
   "execution_count": 67
  },
  {
   "metadata": {
    "ExecuteTime": {
     "end_time": "2025-10-08T23:59:39.771628Z",
     "start_time": "2025-10-08T23:59:39.767484Z"
    }
   },
   "cell_type": "code",
   "source": [
    "# convert a list to numpy array\n",
    "\n",
    "list1 = [1, 2, 3, 4, 5]\n",
    "\n",
    "np_array = np.asarray(list1)\n",
    "print(np_array)\n",
    "type(np_array)"
   ],
   "id": "aaedfdad9c1ba91a",
   "outputs": [
    {
     "name": "stdout",
     "output_type": "stream",
     "text": [
      "[1 2 3 4 5]\n"
     ]
    },
    {
     "data": {
      "text/plain": [
       "numpy.ndarray"
      ]
     },
     "execution_count": 68,
     "metadata": {},
     "output_type": "execute_result"
    }
   ],
   "execution_count": 68
  },
  {
   "metadata": {},
   "cell_type": "markdown",
   "source": "Analysing a numpy array",
   "id": "3d8c5b036ed805b5"
  },
  {
   "metadata": {
    "ExecuteTime": {
     "end_time": "2025-10-09T00:05:31.939409Z",
     "start_time": "2025-10-09T00:05:31.936319Z"
    }
   },
   "cell_type": "code",
   "source": [
    "c = np.random.randint(10,100, (5, 5))\n",
    "print(c)"
   ],
   "id": "3867b02f87d376dc",
   "outputs": [
    {
     "name": "stdout",
     "output_type": "stream",
     "text": [
      "[[86 99 26 36 16]\n",
      " [22 84 65 89 75]\n",
      " [76 29 69 89 83]\n",
      " [61 87 29 80 67]\n",
      " [36 43 74 16 27]]\n"
     ]
    }
   ],
   "execution_count": 70
  },
  {
   "metadata": {
    "ExecuteTime": {
     "end_time": "2025-10-09T00:05:54.140779Z",
     "start_time": "2025-10-09T00:05:54.137760Z"
    }
   },
   "cell_type": "code",
   "source": [
    "# array dimension\n",
    "\n",
    "print(c.shape)"
   ],
   "id": "828adbbd27eb0b37",
   "outputs": [
    {
     "name": "stdout",
     "output_type": "stream",
     "text": [
      "(5, 5)\n"
     ]
    }
   ],
   "execution_count": 71
  },
  {
   "metadata": {
    "ExecuteTime": {
     "end_time": "2025-10-09T00:06:24.698768Z",
     "start_time": "2025-10-09T00:06:24.694911Z"
    }
   },
   "cell_type": "code",
   "source": [
    "# number of dimensions\n",
    "print(c.ndim)"
   ],
   "id": "f99c9a6b1bd076d2",
   "outputs": [
    {
     "name": "stdout",
     "output_type": "stream",
     "text": [
      "2\n"
     ]
    }
   ],
   "execution_count": 72
  },
  {
   "metadata": {
    "ExecuteTime": {
     "end_time": "2025-10-09T00:07:21.446696Z",
     "start_time": "2025-10-09T00:07:21.443720Z"
    }
   },
   "cell_type": "code",
   "source": [
    "# number of elements\n",
    "print(c.size)"
   ],
   "id": "91fc1b39ad39426d",
   "outputs": [
    {
     "name": "stdout",
     "output_type": "stream",
     "text": [
      "25\n"
     ]
    }
   ],
   "execution_count": 73
  },
  {
   "metadata": {
    "ExecuteTime": {
     "end_time": "2025-10-09T00:08:01.466995Z",
     "start_time": "2025-10-09T00:08:01.464631Z"
    }
   },
   "cell_type": "code",
   "source": [
    "# checking the data type of values in the array\n",
    "\n",
    "print(c.dtype)"
   ],
   "id": "b31055882246c2b1",
   "outputs": [
    {
     "name": "stdout",
     "output_type": "stream",
     "text": [
      "int32\n"
     ]
    }
   ],
   "execution_count": 74
  },
  {
   "metadata": {},
   "cell_type": "markdown",
   "source": "Mathematical operations in a np array",
   "id": "1abbbd850f60cd4b"
  },
  {
   "metadata": {
    "ExecuteTime": {
     "end_time": "2025-10-09T00:10:40.777035Z",
     "start_time": "2025-10-09T00:10:40.774146Z"
    }
   },
   "cell_type": "code",
   "source": [
    "list1 = [1, 2, 3, 4, 5]\n",
    "list2 = [6, 7, 8, 9, 10]\n",
    "\n",
    "print(list1 + list2)"
   ],
   "id": "fa76013fd77d4220",
   "outputs": [
    {
     "name": "stdout",
     "output_type": "stream",
     "text": [
      "[1, 2, 3, 4, 5, 6, 7, 8, 9, 10]\n"
     ]
    }
   ],
   "execution_count": 76
  },
  {
   "metadata": {
    "ExecuteTime": {
     "end_time": "2025-10-09T00:13:11.500488Z",
     "start_time": "2025-10-09T00:13:11.497472Z"
    }
   },
   "cell_type": "code",
   "source": [
    "a = np.random.randint(1, 10,(4, 5))\n",
    "b = np.random.randint(10, 20,(4, 5))"
   ],
   "id": "f151d189c2e6e175",
   "outputs": [],
   "execution_count": 79
  },
  {
   "metadata": {
    "ExecuteTime": {
     "end_time": "2025-10-09T00:13:14.144403Z",
     "start_time": "2025-10-09T00:13:14.141348Z"
    }
   },
   "cell_type": "code",
   "source": [
    "print(a)\n",
    "print(b)"
   ],
   "id": "e91759ca2f906c54",
   "outputs": [
    {
     "name": "stdout",
     "output_type": "stream",
     "text": [
      "[[4 5 5 5 5]\n",
      " [4 9 4 6 4]\n",
      " [8 7 3 1 1]\n",
      " [2 3 9 1 1]]\n",
      "[[16 16 17 13 15]\n",
      " [18 17 19 17 14]\n",
      " [13 12 13 15 19]\n",
      " [12 17 18 17 16]]\n"
     ]
    }
   ],
   "execution_count": 80
  },
  {
   "metadata": {
    "ExecuteTime": {
     "end_time": "2025-10-09T00:13:33.418695Z",
     "start_time": "2025-10-09T00:13:33.414941Z"
    }
   },
   "cell_type": "code",
   "source": [
    "print(a+b)\n",
    "print(a-b)\n",
    "print(a*b)\n",
    "print(a/b)"
   ],
   "id": "1eded56b5a08a974",
   "outputs": [
    {
     "name": "stdout",
     "output_type": "stream",
     "text": [
      "[[20 21 22 18 20]\n",
      " [22 26 23 23 18]\n",
      " [21 19 16 16 20]\n",
      " [14 20 27 18 17]]\n",
      "[[-12 -11 -12  -8 -10]\n",
      " [-14  -8 -15 -11 -10]\n",
      " [ -5  -5 -10 -14 -18]\n",
      " [-10 -14  -9 -16 -15]]\n",
      "[[ 64  80  85  65  75]\n",
      " [ 72 153  76 102  56]\n",
      " [104  84  39  15  19]\n",
      " [ 24  51 162  17  16]]\n",
      "[[0.25       0.3125     0.29411765 0.38461538 0.33333333]\n",
      " [0.22222222 0.52941176 0.21052632 0.35294118 0.28571429]\n",
      " [0.61538462 0.58333333 0.23076923 0.06666667 0.05263158]\n",
      " [0.16666667 0.17647059 0.5        0.05882353 0.0625    ]]\n"
     ]
    }
   ],
   "execution_count": 81
  },
  {
   "metadata": {
    "ExecuteTime": {
     "end_time": "2025-10-09T00:13:59.925151Z",
     "start_time": "2025-10-09T00:13:59.921681Z"
    }
   },
   "cell_type": "code",
   "source": [
    "print(np.add(a,b))\n",
    "print(np.subtract(a,b))\n",
    "print(np.multiply(a,b))\n",
    "print(np.divide(a,b))"
   ],
   "id": "a1bd628478766f71",
   "outputs": [
    {
     "name": "stdout",
     "output_type": "stream",
     "text": [
      "[[20 21 22 18 20]\n",
      " [22 26 23 23 18]\n",
      " [21 19 16 16 20]\n",
      " [14 20 27 18 17]]\n",
      "[[-12 -11 -12  -8 -10]\n",
      " [-14  -8 -15 -11 -10]\n",
      " [ -5  -5 -10 -14 -18]\n",
      " [-10 -14  -9 -16 -15]]\n",
      "[[ 64  80  85  65  75]\n",
      " [ 72 153  76 102  56]\n",
      " [104  84  39  15  19]\n",
      " [ 24  51 162  17  16]]\n",
      "[[0.25       0.3125     0.29411765 0.38461538 0.33333333]\n",
      " [0.22222222 0.52941176 0.21052632 0.35294118 0.28571429]\n",
      " [0.61538462 0.58333333 0.23076923 0.06666667 0.05263158]\n",
      " [0.16666667 0.17647059 0.5        0.05882353 0.0625    ]]\n"
     ]
    }
   ],
   "execution_count": 82
  },
  {
   "metadata": {
    "ExecuteTime": {
     "end_time": "2025-10-09T00:16:06.561448Z",
     "start_time": "2025-10-09T00:16:06.557557Z"
    }
   },
   "cell_type": "code",
   "source": [
    "array = np.random.randint(0, 10, (2, 3))\n",
    "print(array)\n",
    "array.shape"
   ],
   "id": "97f97ee437595dbc",
   "outputs": [
    {
     "name": "stdout",
     "output_type": "stream",
     "text": [
      "[[3 8 5]\n",
      " [2 3 0]]\n"
     ]
    },
    {
     "data": {
      "text/plain": [
       "(2, 3)"
      ]
     },
     "execution_count": 85,
     "metadata": {},
     "output_type": "execute_result"
    }
   ],
   "execution_count": 85
  },
  {
   "metadata": {
    "ExecuteTime": {
     "end_time": "2025-10-09T00:16:34.109111Z",
     "start_time": "2025-10-09T00:16:34.105529Z"
    }
   },
   "cell_type": "code",
   "source": [
    "trans = np.transpose(array)\n",
    "print(trans)\n",
    "trans.shape"
   ],
   "id": "bc436b11f55cff43",
   "outputs": [
    {
     "name": "stdout",
     "output_type": "stream",
     "text": [
      "[[3 2]\n",
      " [8 3]\n",
      " [5 0]]\n"
     ]
    },
    {
     "data": {
      "text/plain": [
       "(3, 2)"
      ]
     },
     "execution_count": 86,
     "metadata": {},
     "output_type": "execute_result"
    }
   ],
   "execution_count": 86
  },
  {
   "metadata": {
    "ExecuteTime": {
     "end_time": "2025-10-09T00:16:50.867619Z",
     "start_time": "2025-10-09T00:16:50.863386Z"
    }
   },
   "cell_type": "code",
   "source": [
    "array = np.random.randint(0, 10, (2, 3))\n",
    "print(array)\n",
    "array.shape"
   ],
   "id": "b4faeecc1a8de21f",
   "outputs": [
    {
     "name": "stdout",
     "output_type": "stream",
     "text": [
      "[[1 7 1]\n",
      " [2 9 2]]\n"
     ]
    },
    {
     "data": {
      "text/plain": [
       "(2, 3)"
      ]
     },
     "execution_count": 87,
     "metadata": {},
     "output_type": "execute_result"
    }
   ],
   "execution_count": 87
  },
  {
   "metadata": {
    "ExecuteTime": {
     "end_time": "2025-10-09T00:17:29.770493Z",
     "start_time": "2025-10-09T00:17:29.766273Z"
    }
   },
   "cell_type": "code",
   "source": [
    "trans2 = array.T\n",
    "print(trans2)\n",
    "trans2.shape"
   ],
   "id": "5af409dcd2b269ed",
   "outputs": [
    {
     "name": "stdout",
     "output_type": "stream",
     "text": [
      "[[1 2]\n",
      " [7 9]\n",
      " [1 2]]\n"
     ]
    },
    {
     "data": {
      "text/plain": [
       "(3, 2)"
      ]
     },
     "execution_count": 88,
     "metadata": {},
     "output_type": "execute_result"
    }
   ],
   "execution_count": 88
  },
  {
   "metadata": {},
   "cell_type": "code",
   "outputs": [],
   "execution_count": null,
   "source": "",
   "id": "ac4b5eaf4576c6f2"
  }
 ],
 "metadata": {
  "kernelspec": {
   "display_name": "Python 3",
   "language": "python",
   "name": "python3"
  },
  "language_info": {
   "codemirror_mode": {
    "name": "ipython",
    "version": 2
   },
   "file_extension": ".py",
   "mimetype": "text/x-python",
   "name": "python",
   "nbconvert_exporter": "python",
   "pygments_lexer": "ipython2",
   "version": "2.7.6"
  }
 },
 "nbformat": 4,
 "nbformat_minor": 5
}
